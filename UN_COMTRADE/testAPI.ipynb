{
 "cells": [
  {
   "cell_type": "code",
   "execution_count": 1,
   "id": "e8bb23a8",
   "metadata": {},
   "outputs": [],
   "source": [
    "import pandas as pd\n",
    "import requests as rq\n",
    "import comtradeapicall as comtradeapicall\n",
    "from datetime import datetime, timedelta\n",
    "import os\n",
    "import time"
   ]
  },
  {
   "cell_type": "code",
   "execution_count": 2,
   "id": "9bc249f8",
   "metadata": {},
   "outputs": [],
   "source": [
    "# Get the current working directory\n",
    "current_directory = os.getcwd()"
   ]
  },
  {
   "cell_type": "code",
   "execution_count": null,
   "id": "4c8d98d8",
   "metadata": {},
   "outputs": [],
   "source": []
  },
  {
   "cell_type": "code",
   "execution_count": 4,
   "id": "26f2c72a",
   "metadata": {},
   "outputs": [],
   "source": [
    "subscription_key = '' # FREE comtrade api subscription key (from comtradedeveloper.un.org)\n"
   ]
  },
  {
   "cell_type": "code",
   "execution_count": 5,
   "id": "f3b932b4",
   "metadata": {},
   "outputs": [],
   "source": [
    "##############################################################################################"
   ]
  },
  {
   "cell_type": "code",
   "execution_count": 6,
   "id": "978dc703",
   "metadata": {},
   "outputs": [],
   "source": [
    "code = pd.read_csv(\"HS_CODE_CAT.csv\",dtype={'CODE': str})\n",
    "reporter = pd.read_csv(\"reporterAreas.csv\",dtype={'CODE': str})\n",
    "partner = pd.read_csv(\"partnerAreas.csv\",dtype={'CODE': str})"
   ]
  },
  {
   "cell_type": "code",
   "execution_count": 7,
   "id": "d784e9f1",
   "metadata": {},
   "outputs": [],
   "source": [
    "code.dropna(how = 'all', axis=1, inplace = True)\n",
    "code.dropna(how = 'all', axis=0, inplace = True)"
   ]
  },
  {
   "cell_type": "code",
   "execution_count": 8,
   "id": "62d7a5bb",
   "metadata": {},
   "outputs": [],
   "source": [
    "#################################################################################################"
   ]
  },
  {
   "cell_type": "markdown",
   "id": "3b17ba97",
   "metadata": {},
   "source": [
    "#### Dates"
   ]
  },
  {
   "cell_type": "code",
   "execution_count": 9,
   "id": "318bbde3",
   "metadata": {},
   "outputs": [
    {
     "name": "stdout",
     "output_type": "stream",
     "text": [
      "202101,202102,202103,202104,202105,202106,202107,202108,202109,202110,202111,202112\n"
     ]
    }
   ],
   "source": [
    "from datetime import datetime\n",
    "\n",
    "def data_gen(start_date):\n",
    "    # Convert the input date to a datetime object\n",
    "    start_date = datetime.strptime(start_date, '%Y%m')\n",
    "    \n",
    "    # Initialize an empty list to store the date strings\n",
    "    date_strings = []\n",
    "    \n",
    "    while len(date_strings) < 12:\n",
    "        date_strings.append(start_date.strftime('%Y%m'))\n",
    "        # Increment the month\n",
    "        if start_date.month == 12:\n",
    "            # If the current month is December, increment the year and set the month to January\n",
    "            start_date = start_date.replace(year=start_date.year + 1, month=1)\n",
    "        else:\n",
    "            start_date = start_date.replace(month=start_date.month + 1)\n",
    "    \n",
    "    # Join the date strings into a single string separated by commas\n",
    "    result = ','.join(date_strings)\n",
    "\n",
    "    return result\n",
    "\n",
    "# Example usage\n",
    "start_date = '202101'\n",
    "dates = data_gen(start_date)\n",
    "print(dates)\n",
    "\n"
   ]
  },
  {
   "cell_type": "code",
   "execution_count": 10,
   "id": "8afd9981",
   "metadata": {},
   "outputs": [
    {
     "name": "stdout",
     "output_type": "stream",
     "text": [
      "['200001', '200101', '200201', '200301', '200401', '200501', '200601', '200701', '200801', '200901', '201001', '201101', '201201', '201301', '201401', '201501', '201601', '201701', '201801', '201901', '202001', '202101', '202201', '202301']\n"
     ]
    }
   ],
   "source": [
    "def annual_gen(start_date, end_date):\n",
    "    start_date = datetime.strptime(start_date, '%Y%m')\n",
    "    end_date = datetime.strptime(end_date, '%Y%m')\n",
    "    \n",
    "    date_str = []\n",
    "    while start_date <= end_date:\n",
    "        date_str.append(start_date.strftime('%Y%m'))\n",
    "        start_date = start_date.replace(year=start_date.year + 1)\n",
    "    return date_str\n",
    "result = annual_gen('200001','202309')\n",
    "print(result)"
   ]
  },
  {
   "cell_type": "markdown",
   "id": "89aa03d4",
   "metadata": {},
   "source": [
    "### Reporter and Parter"
   ]
  },
  {
   "cell_type": "code",
   "execution_count": 11,
   "id": "1908386e",
   "metadata": {},
   "outputs": [
    {
     "data": {
      "text/html": [
       "<div>\n",
       "<style scoped>\n",
       "    .dataframe tbody tr th:only-of-type {\n",
       "        vertical-align: middle;\n",
       "    }\n",
       "\n",
       "    .dataframe tbody tr th {\n",
       "        vertical-align: top;\n",
       "    }\n",
       "\n",
       "    .dataframe thead th {\n",
       "        text-align: right;\n",
       "    }\n",
       "</style>\n",
       "<table border=\"1\" class=\"dataframe\">\n",
       "  <thead>\n",
       "    <tr style=\"text-align: right;\">\n",
       "      <th></th>\n",
       "      <th>id</th>\n",
       "      <th>text</th>\n",
       "    </tr>\n",
       "  </thead>\n",
       "  <tbody>\n",
       "    <tr>\n",
       "      <th>217</th>\n",
       "      <td>724</td>\n",
       "      <td>Spain</td>\n",
       "    </tr>\n",
       "  </tbody>\n",
       "</table>\n",
       "</div>"
      ],
      "text/plain": [
       "      id   text\n",
       "217  724  Spain"
      ]
     },
     "execution_count": 11,
     "metadata": {},
     "output_type": "execute_result"
    }
   ],
   "source": [
    "# Assuming you have a DataFrame 'df' with columns 'id' and 'text'\n",
    "\n",
    "def search_entries_by_initial_character(df, initial_character):\n",
    "    matching_entries = df[df['text'].str.startswith(initial_character)]\n",
    "    return matching_entries[['id', 'text']]\n",
    "\n",
    "\n",
    "\n",
    "initial_character = 'Spa'\n",
    "entry = search_entries_by_initial_character(reporter, initial_character)\n",
    "entry"
   ]
  },
  {
   "cell_type": "markdown",
   "id": "5d0b6126",
   "metadata": {},
   "source": [
    "#### Code"
   ]
  },
  {
   "cell_type": "code",
   "execution_count": 12,
   "id": "3847beb8",
   "metadata": {},
   "outputs": [],
   "source": [
    "compressed_string = ','.join(map(str, code['CODE']))"
   ]
  },
  {
   "cell_type": "code",
   "execution_count": 13,
   "id": "e50cbf30",
   "metadata": {},
   "outputs": [],
   "source": [
    "### 250k call "
   ]
  },
  {
   "cell_type": "code",
   "execution_count": 14,
   "id": "c1ac9f52",
   "metadata": {},
   "outputs": [],
   "source": [
    "#  '842,276,381,251,724'\n",
    "# flwCode\tflwDescription\tflwCategory\n",
    "#-1\tNot available or not specified.\t\n",
    "# M\tImport\tM\n",
    "# X\tExport\tX\n",
    "# RX\tRe-export\tX\n",
    "# RM\tRe-import\tM\n",
    "# MIP\tImport of goods for inward processing\tM\n",
    "# XIP\tExport of goods after inward processing\tX\n",
    "# MOP\tImport of goods after outward processing\tM\n",
    "# XOP\tExport of goods for outward processing\tX\n",
    "# MIF\tImport on intra-firm trade\tM\n",
    "# XIF\tExport on intra-firm trade\tX\n",
    "# DX\tDomestic Export\tX\n",
    "# FM\tForeign Import\tM'\n"
   ]
  },
  {
   "cell_type": "code",
   "execution_count": 15,
   "id": "8261cc0a",
   "metadata": {},
   "outputs": [],
   "source": [
    "mydf_251 = []  # Initialize an empty list to store the API call results\n",
    "\n",
    "for date in result:\n",
    "    response = comtradeapicall.getFinalData(\n",
    "        subscription_key, typeCode='C', freqCode='M', clCode='HS', period=data_gen(date),\n",
    "        reporterCode='724', cmdCode=compressed_string, flowCode='X', partnerCode=0,\n",
    "        partner2Code=None, customsCode=None, motCode=None, maxRecords=250000,\n",
    "        format_output='JSON', aggregateBy=None, breakdownMode='classic', countOnly=None, includeDesc=True\n",
    "    )\n",
    "    time.sleep(10)\n",
    "    mydf_251.append(response)  # Append the API call response to the list\n",
    "\n",
    "# Now mydf contains the results of the API calls for each date in the result list\n"
   ]
  },
  {
   "cell_type": "code",
   "execution_count": 16,
   "id": "26835a16",
   "metadata": {},
   "outputs": [],
   "source": [
    "merged_df_251 = pd.concat(mydf_251, ignore_index=True)"
   ]
  },
  {
   "cell_type": "code",
   "execution_count": 17,
   "id": "b56d3cf7",
   "metadata": {},
   "outputs": [],
   "source": [
    "merged_df_251.to_csv(\"ESP_EXP_GOODS.csv\")"
   ]
  },
  {
   "cell_type": "markdown",
   "id": "b55f4258",
   "metadata": {},
   "source": [
    "response = comtradeapicall.getFinalData(\n",
    "    subscription_key, typeCode='S', freqCode='A', clCode='EB10', period='2023,2022,2021',\n",
    "    reporterCode='842,276,380,250', cmdCode='200', flowCode='X', partnerCode=0,\n",
    "    partner2Code=None, customsCode=None, motCode=None, maxRecords=250000,\n",
    "    format_output='JSON', aggregateBy=None, breakdownMode='classic', countOnly=None, includeDesc=True\n",
    ")"
   ]
  },
  {
   "cell_type": "code",
   "execution_count": null,
   "id": "51686397",
   "metadata": {},
   "outputs": [],
   "source": []
  }
 ],
 "metadata": {
  "kernelspec": {
   "display_name": "py39",
   "language": "python",
   "name": "py39"
  },
  "language_info": {
   "codemirror_mode": {
    "name": "ipython",
    "version": 3
   },
   "file_extension": ".py",
   "mimetype": "text/x-python",
   "name": "python",
   "nbconvert_exporter": "python",
   "pygments_lexer": "ipython3",
   "version": "3.9.7"
  }
 },
 "nbformat": 4,
 "nbformat_minor": 5
}
